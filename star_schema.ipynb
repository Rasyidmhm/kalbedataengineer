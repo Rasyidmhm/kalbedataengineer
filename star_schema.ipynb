{
 "cells": [
  {
   "cell_type": "code",
   "execution_count": 1,
   "metadata": {},
   "outputs": [],
   "source": [
    "import mysql.connector"
   ]
  },
  {
   "cell_type": "code",
   "execution_count": 2,
   "metadata": {},
   "outputs": [],
   "source": [
    "# Connection parameters\n",
    "host = \"localhost\"\n",
    "user = \"rasyid\"\n",
    "password = \"yggdra01.\"\n",
    "database = \"kalbe\"\n",
    "\n",
    "# Establish the connection\n",
    "conn = mysql.connector.connect(\n",
    "    host=host,\n",
    "    user=user,\n",
    "    password=password,\n",
    "    database=database,auth_plugin='mysql_native_password'\n",
    ")\n"
   ]
  },
  {
   "cell_type": "code",
   "execution_count": 3,
   "metadata": {},
   "outputs": [],
   "source": [
    "# Create a cursor object\n",
    "cursor = conn.cursor()"
   ]
  },
  {
   "cell_type": "code",
   "execution_count": 5,
   "metadata": {},
   "outputs": [
    {
     "name": "stdout",
     "output_type": "stream",
     "text": [
      "Error: 1050 (42S01): Table 'date' already exists\n"
     ]
    }
   ],
   "source": [
    "try:\n",
    "    # Create dimension tables\n",
    "    create_date_table_sql = \"\"\"\n",
    "    CREATE TABLE Date (\n",
    "        Date_ID INT PRIMARY KEY,\n",
    "        Year INT,\n",
    "        Month INT,\n",
    "        Day INT\n",
    "    )\n",
    "    \"\"\"\n",
    "\n",
    "    create_item_table_sql = \"\"\"\n",
    "    CREATE TABLE Item (\n",
    "        Item_ID INT PRIMARY KEY,\n",
    "        Item_Code VARCHAR(255),\n",
    "        Item_Name VARCHAR(255),\n",
    "        Item_Price INT\n",
    "    )\n",
    "    \"\"\"\n",
    "\n",
    "    create_store_table_sql = \"\"\"\n",
    "    CREATE TABLE Store (\n",
    "        Store_ID INT PRIMARY KEY,\n",
    "        Store_Name VARCHAR(255),\n",
    "        City VARCHAR(255),\n",
    "        Region VARCHAR(255)\n",
    "    )\n",
    "    \"\"\"\n",
    "\n",
    "    create_customer_table_sql = \"\"\"\n",
    "    CREATE TABLE Customer (\n",
    "        Customer_ID INT PRIMARY KEY,\n",
    "        Customer_Name VARCHAR(255),\n",
    "        Age INT,\n",
    "        Gender VARCHAR(255)\n",
    "    )\n",
    "    \"\"\"\n",
    "\n",
    "    create_discount_table_sql = \"\"\"\n",
    "    CREATE TABLE Discount (\n",
    "        Discount_ID INT PRIMARY KEY,\n",
    "        Discount_Name VARCHAR(255),\n",
    "        Start_Date DATE,\n",
    "        End_Date DATE\n",
    "    )\n",
    "    \"\"\"\n",
    "\n",
    "    # Create the fact table with foreign keys\n",
    "    create_sales_table_sql = \"\"\"\n",
    "    CREATE TABLE Sales (\n",
    "        Sales_ID INT PRIMARY KEY,\n",
    "        Date_ID INT,\n",
    "        Item_ID INT,\n",
    "        Store_ID INT,\n",
    "        Customer_ID INT,\n",
    "        Promotion_ID INT,\n",
    "        Discount FLOAT,\n",
    "        Quantity_Sold INT,\n",
    "        Revenue INT,\n",
    "        FOREIGN KEY (Date_ID) REFERENCES Date (Date_ID),\n",
    "        FOREIGN KEY (Item_ID) REFERENCES Item (Item_ID),\n",
    "        FOREIGN KEY (Store_ID) REFERENCES Store (Store_ID),\n",
    "        FOREIGN KEY (Customer_ID) REFERENCES Customer (Customer_ID),\n",
    "        FOREIGN KEY (Promotion_ID) REFERENCES Discount (Discount_ID)\n",
    "    )\n",
    "    \"\"\"\n",
    "\n",
    "    # Execute the SQL statements to create the tables\n",
    "    cursor.execute(create_date_table_sql)\n",
    "    cursor.execute(create_item_table_sql)\n",
    "    cursor.execute(create_store_table_sql)\n",
    "    cursor.execute(create_customer_table_sql)\n",
    "    cursor.execute(create_discount_table_sql)\n",
    "    cursor.execute(create_sales_table_sql)\n",
    "\n",
    "    # Commit the changes to the database\n",
    "    conn.commit()\n",
    "    print(\"Tables created successfully!\")\n",
    "\n",
    "except mysql.connector.Error as err:\n",
    "    print(f\"Error: {err}\")\n"
   ]
  },
  {
   "cell_type": "code",
   "execution_count": 6,
   "metadata": {},
   "outputs": [],
   "source": [
    "conn.commit()"
   ]
  },
  {
   "cell_type": "code",
   "execution_count": 7,
   "metadata": {},
   "outputs": [],
   "source": [
    "cursor.close()\n",
    "conn.close()"
   ]
  }
 ],
 "metadata": {
  "kernelspec": {
   "display_name": "Python 3",
   "language": "python",
   "name": "python3"
  },
  "language_info": {
   "codemirror_mode": {
    "name": "ipython",
    "version": 3
   },
   "file_extension": ".py",
   "mimetype": "text/x-python",
   "name": "python",
   "nbconvert_exporter": "python",
   "pygments_lexer": "ipython3",
   "version": "3.10.11"
  },
  "orig_nbformat": 4
 },
 "nbformat": 4,
 "nbformat_minor": 2
}
