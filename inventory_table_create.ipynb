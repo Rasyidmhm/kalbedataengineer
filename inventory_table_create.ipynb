{
 "cells": [
  {
   "cell_type": "code",
   "execution_count": 16,
   "metadata": {},
   "outputs": [],
   "source": [
    "import mysql.connector"
   ]
  },
  {
   "cell_type": "code",
   "execution_count": 17,
   "metadata": {},
   "outputs": [],
   "source": [
    "# Connection parameters\n",
    "host = \"localhost\"\n",
    "user = \"rasyid\"\n",
    "password = \"yggdra01.\"\n",
    "database = \"kalbe\"\n",
    "\n",
    "# Establish the connection\n",
    "conn = mysql.connector.connect(\n",
    "    host=host,\n",
    "    user=user,\n",
    "    password=password,\n",
    "    database=database,auth_plugin='mysql_native_password'\n",
    ")\n"
   ]
  },
  {
   "cell_type": "code",
   "execution_count": 18,
   "metadata": {},
   "outputs": [],
   "source": [
    "# Create a cursor object\n",
    "cursor = conn.cursor()"
   ]
  },
  {
   "cell_type": "code",
   "execution_count": 19,
   "metadata": {},
   "outputs": [
    {
     "name": "stdout",
     "output_type": "stream",
     "text": [
      "Table 'inventory' has been deleted successfully!\n"
     ]
    }
   ],
   "source": [
    "try:\n",
    "    # Specify the name of the table to be deleted\n",
    "    table_name = \"inventory\"  # Replace with the name of the table you want to delete\n",
    "\n",
    "    # Define the SQL command to delete the table\n",
    "    delete_table_sql = f\"DROP TABLE IF EXISTS {table_name}\"\n",
    "\n",
    "    # Execute the SQL command to delete the table\n",
    "    cursor.execute(delete_table_sql)\n",
    "    print(f\"Table '{table_name}' has been deleted successfully!\")\n",
    "\n",
    "    # Commit the changes to the database\n",
    "    conn.commit()\n",
    "\n",
    "except mysql.connector.Error as err:\n",
    "    print(f\"Error: {err}\")"
   ]
  },
  {
   "cell_type": "code",
   "execution_count": 5,
   "metadata": {},
   "outputs": [],
   "source": [
    "data_to_insert = [\n",
    "    (2341, \"Promag Tablet\", 3000, 100),\n",
    "    (2342, \"Hydro Coco 250ML\", 7000, 20),\n",
    "    (2343, \"Nutrive Benecol 100ML\", 20000, 30),\n",
    "    (2344, \"Blackmores Vit C 500Mg\", 95000, 45),\n",
    "    (2345, \"Entrasol Gold 370G\", 90000, 120)\n",
    "]"
   ]
  },
  {
   "cell_type": "code",
   "execution_count": 6,
   "metadata": {},
   "outputs": [],
   "source": [
    "# Define the SQL command to create the table\n",
    "create_table_sql = \"\"\"\n",
    "CREATE TABLE inventory (\n",
    "    ITEM_CODE INT PRIMARY KEY,\n",
    "    ITEM_NAME VARCHAR(50) NOT NULL,  -- Not null constraint\n",
    "    ITEM_PRICE INT DEFAULT 0,        -- Default value constraint\n",
    "    ITEM_TOTAL INT CHECK (ITEM_TOTAL >= 0)  -- Check constraint\n",
    ")\n",
    "\"\"\"\n",
    "\n",
    "\n",
    "# Execute the SQL command to create the table\n",
    "cursor.execute(create_table_sql)\n",
    "\n",
    "# Commit the transaction (save changes)\n",
    "conn.commit()"
   ]
  },
  {
   "cell_type": "code",
   "execution_count": 7,
   "metadata": {},
   "outputs": [],
   "source": [
    "Insert_sql = (\n",
    "    \"INSERT INTO INVENTORY (ITEM_CODE, ITEM_NAME, ITEM_PRICE, ITEM_TOTAL) \"\n",
    "    \"VALUES (%s, %s, %s, %s)\"\n",
    ")\n",
    "for i in range(len(data_to_insert)):\n",
    "    cursor.execute(Insert_sql, data_to_insert[i])\n",
    "conn.commit()"
   ]
  },
  {
   "cell_type": "code",
   "execution_count": 8,
   "metadata": {},
   "outputs": [
    {
     "name": "stdout",
     "output_type": "stream",
     "text": [
      "The item with the highest total is: Entrasol Gold 370G with total 120\n"
     ]
    }
   ],
   "source": [
    "# Define the SQL query\n",
    "sql_query = \"\"\"\n",
    "SELECT *\n",
    "FROM inventory\n",
    "ORDER BY ITEM_TOTAL DESC\n",
    "LIMIT 1\n",
    "\"\"\"\n",
    "\n",
    "try:\n",
    "    # Execute the SQL query\n",
    "    cursor.execute(sql_query)\n",
    "\n",
    "    # Fetch the result\n",
    "    result = cursor.fetchall()\n",
    "    \n",
    "\n",
    "    if result:\n",
    "        highest_item_name = result[0][1]\n",
    "        highest_item_total = result[0][3]\n",
    "        print(f\"The item with the highest total is: {highest_item_name} with total {highest_item_total}\")\n",
    "    else:\n",
    "        print(\"No data found in the inventory table.\")\n",
    "\n",
    "except mysql.connector.Error as err:\n",
    "    print(f\"Error: {err}\")"
   ]
  },
  {
   "cell_type": "code",
   "execution_count": 9,
   "metadata": {},
   "outputs": [
    {
     "name": "stdout",
     "output_type": "stream",
     "text": [
      "[(2341, 'Promag Tablet', 3000, 100), (2342, 'Hydro Coco 250ML', 7000, 20), (2343, 'Nutrive Benecol 100ML', 20000, 30), (2344, 'Blackmores Vit C 500Mg', 95000, 45), (2345, 'Entrasol Gold 370G', 90000, 120)]\n"
     ]
    }
   ],
   "source": [
    "# Define the SQL query\n",
    "sql_query = \"\"\"\n",
    "SELECT *\n",
    "FROM inventory\n",
    "\"\"\"\n",
    "\n",
    "cursor.execute(sql_query)\n",
    "result = cursor.fetchall()\n",
    "print(result)"
   ]
  },
  {
   "cell_type": "code",
   "execution_count": 10,
   "metadata": {},
   "outputs": [
    {
     "name": "stdout",
     "output_type": "stream",
     "text": [
      "The ITEM_PRICE for ITEM_CODE 2345 has been updated to 120000.\n"
     ]
    }
   ],
   "source": [
    "try:\n",
    "    # Find the ITEM_CODE associated with the item with the highest ITEM_TOTAL\n",
    "    sql_query = \"\"\"\n",
    "    SELECT ITEM_CODE\n",
    "    FROM inventory\n",
    "    WHERE ITEM_TOTAL = (SELECT MAX(ITEM_TOTAL) FROM inventory)\n",
    "    \"\"\"\n",
    "\n",
    "    cursor.execute(sql_query)\n",
    "    result = cursor.fetchone()\n",
    "\n",
    "    if result:\n",
    "        highest_item_code = result[0]\n",
    "\n",
    "        # Update the ITEM_PRICE for the item with the highest ITEM_TOTAL\n",
    "        new_price = 120000  # Replace with the desired new price\n",
    "        update_query = \"\"\"\n",
    "        UPDATE inventory\n",
    "        SET ITEM_PRICE = %s\n",
    "        WHERE ITEM_CODE = %s\n",
    "        \"\"\"\n",
    "\n",
    "        cursor.execute(update_query, (new_price, highest_item_code))\n",
    "\n",
    "        # Commit the changes to the database\n",
    "        conn.commit()\n",
    "        print(f\"The ITEM_PRICE for ITEM_CODE {highest_item_code} has been updated to {new_price}.\")\n",
    "\n",
    "    else:\n",
    "        print(\"No data found in the inventory table.\")\n",
    "\n",
    "except mysql.connector.Error as err:\n",
    "    print(f\"Error: {err}\")\n"
   ]
  },
  {
   "cell_type": "code",
   "execution_count": 11,
   "metadata": {},
   "outputs": [
    {
     "name": "stdout",
     "output_type": "stream",
     "text": [
      "[(2341, 'Promag Tablet', 3000, 100), (2342, 'Hydro Coco 250ML', 7000, 20), (2343, 'Nutrive Benecol 100ML', 20000, 30), (2344, 'Blackmores Vit C 500Mg', 95000, 45), (2345, 'Entrasol Gold 370G', 120000, 120)]\n"
     ]
    }
   ],
   "source": [
    "# Define the SQL query\n",
    "sql_query = \"\"\"\n",
    "SELECT *\n",
    "FROM inventory\n",
    "\"\"\"\n",
    "\n",
    "cursor.execute(sql_query)\n",
    "result = cursor.fetchall()\n",
    "print(result)"
   ]
  },
  {
   "cell_type": "code",
   "execution_count": 12,
   "metadata": {},
   "outputs": [
    {
     "name": "stdout",
     "output_type": "stream",
     "text": [
      "Error: 1062 (23000): Duplicate entry '2343' for key 'inventory.PRIMARY'\n"
     ]
    }
   ],
   "source": [
    "try:\n",
    "    # Attempt to insert an item with a duplicate ITEM_CODE\n",
    "    insert_query = \"\"\"\n",
    "    INSERT INTO inventory (ITEM_CODE, ITEM_NAME, ITEM_PRICE, ITEM_TOTAL)\n",
    "    VALUES (2343, 'Duplicate Item', 100, 5)\n",
    "    \"\"\"\n",
    "\n",
    "    cursor.execute(insert_query)\n",
    "\n",
    "    # Commit the changes to the database\n",
    "    conn.commit()\n",
    "    print(\"Insertion succeeded.\")\n",
    "\n",
    "except mysql.connector.Error as err:\n",
    "    # Handle the error when a duplicate primary key is detected\n",
    "    print(f\"Error: {err}\")"
   ]
  },
  {
   "cell_type": "code",
   "execution_count": 13,
   "metadata": {},
   "outputs": [
    {
     "name": "stdout",
     "output_type": "stream",
     "text": [
      "The item with ITEM_CODE 2342 has been deleted.\n"
     ]
    }
   ],
   "source": [
    "try:\n",
    "    # Find the ITEM_CODE associated with the item with the lowest ITEM_TOTAL\n",
    "    min_total_query = \"\"\"\n",
    "    SELECT ITEM_CODE\n",
    "    FROM inventory\n",
    "    WHERE ITEM_TOTAL = (SELECT MIN(ITEM_TOTAL) FROM inventory)\n",
    "    \"\"\"\n",
    "\n",
    "    cursor.execute(min_total_query)\n",
    "    result = cursor.fetchone()\n",
    "\n",
    "    if result:\n",
    "        lowest_item_code = result[0]\n",
    "\n",
    "        # Delete the item with the lowest ITEM_TOTAL\n",
    "        delete_query = \"\"\"\n",
    "        DELETE FROM inventory\n",
    "        WHERE ITEM_CODE = %s\n",
    "        \"\"\"\n",
    "        cursor.execute(delete_query, (lowest_item_code,))\n",
    "\n",
    "        # Commit the changes to the database\n",
    "        conn.commit()\n",
    "        print(f\"The item with ITEM_CODE {lowest_item_code} has been deleted.\")\n",
    "\n",
    "    else:\n",
    "        print(\"No data found in the inventory table.\")\n",
    "\n",
    "except mysql.connector.Error as err:\n",
    "    print(f\"Error: {err}\")"
   ]
  },
  {
   "cell_type": "code",
   "execution_count": 14,
   "metadata": {},
   "outputs": [
    {
     "name": "stdout",
     "output_type": "stream",
     "text": [
      "[(2341, 'Promag Tablet', 3000, 100), (2343, 'Nutrive Benecol 100ML', 20000, 30), (2344, 'Blackmores Vit C 500Mg', 95000, 45), (2345, 'Entrasol Gold 370G', 120000, 120)]\n"
     ]
    }
   ],
   "source": [
    "# Define the SQL query\n",
    "sql_query = \"\"\"\n",
    "SELECT *\n",
    "FROM inventory\n",
    "\"\"\"\n",
    "\n",
    "cursor.execute(sql_query)\n",
    "result = cursor.fetchall()\n",
    "print(result)"
   ]
  },
  {
   "cell_type": "code",
   "execution_count": null,
   "metadata": {},
   "outputs": [],
   "source": [
    "#conn.commit()"
   ]
  },
  {
   "cell_type": "code",
   "execution_count": 15,
   "metadata": {},
   "outputs": [],
   "source": [
    "cursor.close()\n",
    "conn.close()"
   ]
  }
 ],
 "metadata": {
  "kernelspec": {
   "display_name": "Python 3",
   "language": "python",
   "name": "python3"
  },
  "language_info": {
   "codemirror_mode": {
    "name": "ipython",
    "version": 3
   },
   "file_extension": ".py",
   "mimetype": "text/x-python",
   "name": "python",
   "nbconvert_exporter": "python",
   "pygments_lexer": "ipython3",
   "version": "3.10.11"
  },
  "orig_nbformat": 4
 },
 "nbformat": 4,
 "nbformat_minor": 2
}
