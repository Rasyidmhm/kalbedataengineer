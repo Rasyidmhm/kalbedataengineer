{
 "cells": [
  {
   "cell_type": "code",
   "execution_count": 8,
   "metadata": {},
   "outputs": [],
   "source": [
    "import mysql.connector\n",
    "from tabulate import tabulate"
   ]
  },
  {
   "cell_type": "code",
   "execution_count": 2,
   "metadata": {},
   "outputs": [],
   "source": [
    "# Connection parameters\n",
    "host = \"localhost\"\n",
    "user = \"rasyid\"\n",
    "password = \"yggdra01.\"\n",
    "database = \"kalbe\"\n",
    "\n",
    "# Establish the connection\n",
    "conn = mysql.connector.connect(\n",
    "    host=host,\n",
    "    user=user,\n",
    "    password=password,\n",
    "    database=database,auth_plugin='mysql_native_password'\n",
    ")\n"
   ]
  },
  {
   "cell_type": "code",
   "execution_count": 3,
   "metadata": {},
   "outputs": [],
   "source": [
    "# Create a cursor object\n",
    "cursor = conn.cursor()"
   ]
  },
  {
   "cell_type": "code",
   "execution_count": 4,
   "metadata": {},
   "outputs": [],
   "source": [
    "data_to_insert = [\n",
    "    (10001, 150, '2022-10-05', 2005, 3002),\n",
    "    (10009, 270, '2022-09-10', 2001, 3005),\n",
    "    (10002, 65, '2022-10-05', 2002, 3001),\n",
    "    (10004, 110, '2022-08-17', 2009, 3003),\n",
    "    (10007, 948, '2022-09-10', 2005, 3002),\n",
    "    (10005, 2400, '2022-07-27', 2007, 3001)\n",
    "]"
   ]
  },
  {
   "cell_type": "code",
   "execution_count": 5,
   "metadata": {},
   "outputs": [],
   "source": [
    "# Define the SQL command to create the table\n",
    "create_table_sql = \"\"\"\n",
    "CREATE TABLE customer_order (\n",
    "    order_no INT PRIMARY KEY,\n",
    "    purchase_amount INT,\n",
    "    order_date DATE,\n",
    "    customer_id INT,\n",
    "    salesman_id INT\n",
    ")\n",
    "\"\"\"\n",
    "\n",
    "\n",
    "# Execute the SQL command to create the table\n",
    "cursor.execute(create_table_sql)\n",
    "\n",
    "# Commit the transaction (save changes)\n",
    "conn.commit()"
   ]
  },
  {
   "cell_type": "code",
   "execution_count": 7,
   "metadata": {},
   "outputs": [],
   "source": [
    "Insert_sql = (\n",
    "    \"INSERT INTO customer_order (ORDER_NO, PURCHASE_AMOUNT, ORDER_DATE, CUSTOMER_ID, SALESMAN_ID) \"\n",
    "    \"VALUES (%s, %s, %s, %s, %s)\"\n",
    ")\n",
    "for i in range(len(data_to_insert)):\n",
    "    cursor.execute(Insert_sql, data_to_insert[i])\n",
    "conn.commit()"
   ]
  },
  {
   "cell_type": "code",
   "execution_count": 11,
   "metadata": {},
   "outputs": [
    {
     "name": "stdout",
     "output_type": "stream",
     "text": [
      "+----------+-----------------+------------+-------------+-------------+\n",
      "| order_no | purchase_amount | order_date | customer_id | salesman_id |\n",
      "+----------+-----------------+------------+-------------+-------------+\n",
      "|  10002   |       65        | 2022-10-05 |    2002     |    3001     |\n",
      "+----------+-----------------+------------+-------------+-------------+\n"
     ]
    }
   ],
   "source": [
    "try:\n",
    "    # Define the SQL command to retrieve customer orders based on conditions\n",
    "    select_orders_sql = \"\"\"\n",
    "    SELECT *\n",
    "    FROM customer_order\n",
    "    WHERE purchase_amount < 100\n",
    "       OR (order_date < '2022-08-25' AND customer_id <= 2001);\n",
    "    \"\"\"\n",
    "\n",
    "    # Execute the SQL command\n",
    "    cursor.execute(select_orders_sql)\n",
    "\n",
    "    # Fetch all rows from the result set\n",
    "    rows = cursor.fetchall()\n",
    "\n",
    "    # Get column names from the cursor\n",
    "    column_names = cursor.column_names\n",
    "\n",
    "    # Print the table using tabulate\n",
    "    from tabulate import tabulate\n",
    "    print(tabulate(rows, headers=column_names, tablefmt=\"pretty\"))\n",
    "\n",
    "except mysql.connector.Error as err:\n",
    "    print(f\"Error: {err}\")"
   ]
  },
  {
   "cell_type": "code",
   "execution_count": 12,
   "metadata": {},
   "outputs": [],
   "source": [
    "cursor.close()\n",
    "conn.close()"
   ]
  }
 ],
 "metadata": {
  "kernelspec": {
   "display_name": "Python 3",
   "language": "python",
   "name": "python3"
  },
  "language_info": {
   "codemirror_mode": {
    "name": "ipython",
    "version": 3
   },
   "file_extension": ".py",
   "mimetype": "text/x-python",
   "name": "python",
   "nbconvert_exporter": "python",
   "pygments_lexer": "ipython3",
   "version": "3.10.11"
  },
  "orig_nbformat": 4
 },
 "nbformat": 4,
 "nbformat_minor": 2
}
